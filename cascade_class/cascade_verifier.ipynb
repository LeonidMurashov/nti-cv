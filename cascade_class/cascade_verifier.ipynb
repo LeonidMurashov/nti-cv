{
 "metadata": {
  "language_info": {
   "codemirror_mode": {
    "name": "ipython",
    "version": 3
   },
   "file_extension": ".py",
   "mimetype": "text/x-python",
   "name": "python",
   "nbconvert_exporter": "python",
   "pygments_lexer": "ipython3",
   "version": "3.8.3-final"
  },
  "orig_nbformat": 2,
  "kernelspec": {
   "name": "Python 3.8.3 64-bit ('base': conda)",
   "display_name": "Python 3.8.3 64-bit ('base': conda)",
   "metadata": {
    "interpreter": {
     "hash": "08cdad1e3c954a11baa5b19a278f175d956fea93eecd363f8c18badb076cc264"
    }
   }
  }
 },
 "nbformat": 4,
 "nbformat_minor": 2,
 "cells": [
  {
   "cell_type": "code",
   "execution_count": 1,
   "metadata": {},
   "outputs": [],
   "source": [
    "import cv2\n",
    "import numpy as np\n",
    "from matplotlib import pyplot as plt\n",
    "import os\n",
    "from PIL import Image"
   ]
  },
  {
   "cell_type": "code",
   "execution_count": 22,
   "metadata": {
    "tags": []
   },
   "outputs": [],
   "source": [
    "cascade = cv2.CascadeClassifier('dataset_v1/cascade/cascade.xml')\n",
    "for filename in os.listdir('../data/'):\n",
    "    if filename[len(filename) - 1] == 'g':\n",
    "        img = cv2.imread('../data/' + filename)\n",
    "        gray = cv2.cvtColor(img, cv2.COLOR_RGB2GRAY)\n",
    "        circles = cascade.detectMultiScale(gray)\n",
    "        for(x , y, w, h) in circles:\n",
    "            cv2.rectangle(img, (x, y), (x + w, y + h), (0, 0, 255), 2)\n",
    "        cv2.imwrite('results/' + filename, img)\n",
    "        print(circles.size)"
   ]
  },
  {
   "cell_type": "code",
   "execution_count": 13,
   "metadata": {},
   "outputs": [],
   "source": [
    "im = Image.open('results/img5.jpg')\n",
    "im_crop = im.crop((0,0, 255, 255))\n",
    "#im_crop.show()"
   ]
  },
  {
   "cell_type": "code",
   "execution_count": 14,
   "metadata": {},
   "outputs": [],
   "source": [
    "# train haar v2 with C:\\ML\\opencv_3\\build\\x64\\vc15\\bin\\opencv_traincascade.exe -data cascade_haar/ -vec pos.vec -bg \n",
    "# neg.txt -w 24 -h 24 -numPos 120 -numNeg 2000 -numStages 18"
   ]
  }
 ]
}