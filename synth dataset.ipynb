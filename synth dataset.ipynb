{
 "cells": [
  {
   "cell_type": "code",
   "execution_count": 20,
   "metadata": {},
   "outputs": [],
   "source": [
    "import cv2\n",
    "import numpy as np\n",
    "from matplotlib import pyplot as plt\n",
    "import os\n",
    "import imgaug.augmenters as iaa\n",
    "import imgaug as ia\n",
    "from tqdm.notebook import trange\n",
    "import pandas as pd\n",
    "\n",
    "val_split = True\n",
    "\n",
    "if val_split:\n",
    "   # background_imgs_path = 'data/vk_small_val/'\n",
    "    background_imgs_path = r'\\\\wsl$\\Ubuntu-18.04\\home\\leonid\\ImageNet-Datasets-Downloader\\imagenet\\imagenet_images'\n",
    "\n",
    "else:\n",
    "    background_imgs_path = r'\\\\wsl$\\Ubuntu-18.04\\home\\leonid\\ImageNet-Datasets-Downloader\\imagenet\\imagenet_images'\n",
    "templates_imgs_path = 'data/templates/'\n",
    "augmented_templates_number = 1024 * 4\n",
    "cascade_img_size = 224"
   ]
  },
  {
   "cell_type": "code",
   "execution_count": 19,
   "metadata": {},
   "outputs": [
    {
     "data": {
      "text/plain": [
       "7447"
      ]
     },
     "execution_count": 19,
     "metadata": {},
     "output_type": "execute_result"
    }
   ],
   "source": [
    "len(background_imgs)"
   ]
  },
  {
   "cell_type": "code",
   "execution_count": 2,
   "metadata": {},
   "outputs": [],
   "source": [
    "background_imgs = []\n",
    "template_imgs = []\n",
    "for img_path in os.listdir(templates_imgs_path):\n",
    "    template = cv2.imread(os.path.join(templates_imgs_path, img_path), 0)\n",
    "    template = cv2.resize(template, (256, 256))\n",
    "    \n",
    "    _, template_orig = cv2.threshold(template, 180, 255, cv2.THRESH_BINARY_INV)\n",
    "    template_orig = cv2.cvtColor(template_orig, cv2.COLOR_GRAY2RGB)\n",
    "    template_imgs.append(template_orig)\n",
    "    template_imgs.append(255 - template_orig)\n",
    "    \n",
    "for folder in os.listdir(background_imgs_path):\n",
    "    for img_path in os.listdir(os.path.join(background_imgs_path, folder)):\n",
    "        img = cv2.imread(os.path.join(background_imgs_path, folder, img_path))\n",
    "        if img.shape[0] < cascade_img_size or img.shape[1] < cascade_img_size:\n",
    "            min_dim = np.min(img.shape[:2])\n",
    "            ratio = cascade_img_size / min_dim\n",
    "            img = cv2.resize(img, (int(img.shape[1] * ratio), int(img.shape[0] * ratio)))\n",
    "#         img = cv2.cvtColor(img, cv2.COLOR_BGR2RGB)\n",
    "        background_imgs.append(img)\n",
    "np.random.shuffle(background_imgs)"
   ]
  },
  {
   "cell_type": "code",
   "execution_count": 3,
   "metadata": {},
   "outputs": [
    {
     "data": {
      "text/plain": [
       "<matplotlib.image.AxesImage at 0x2607bcfcb08>"
      ]
     },
     "execution_count": 3,
     "metadata": {},
     "output_type": "execute_result"
    },
    {
     "data": {
      "image/png": "[encoded data removed]",
      "text/plain": [
       "<Figure size 432x288 with 1 Axes>"
      ]
     },
     "metadata": {
      "needs_background": "light"
     },
     "output_type": "display_data"
    }
   ],
   "source": [
    "plt.imshow(template_imgs[3], cmap='Greys_r')"
   ]
  },
  {
   "cell_type": "code",
   "execution_count": 4,
   "metadata": {},
   "outputs": [],
   "source": [
    "# seq.show_grid([images[0]], cols=8, rows=8)"
   ]
  },
  {
   "cell_type": "code",
   "execution_count": 5,
   "metadata": {
    "scrolled": true
   },
   "outputs": [
    {
     "name": "stderr",
     "output_type": "stream",
     "text": [
      "C:\\Anaconda3\\lib\\site-packages\\imgaug\\imgaug.py:184: DeprecationWarning: Function `SimplexNoiseAlpha()` is deprecated. Use `BlendAlphaSimplexNoise` instead. SimplexNoiseAlpha is deprecated. Use BlendAlphaSimplexNoise instead. The order of parameters is the same. Parameter 'first' was renamed to 'foreground'. Parameter 'second' was renamed to 'background'.\n",
      "  warn_deprecated(msg, stacklevel=3)\n",
      "C:\\Anaconda3\\lib\\site-packages\\imgaug\\imgaug.py:184: DeprecationWarning: Function `FrequencyNoiseAlpha()` is deprecated. Use `BlendAlphaFrequencyNoise` instead. FrequencyNoiseAlpha is deprecated. Use BlendAlphaFrequencyNoise instead. The order of parameters is the same. Parameter 'first' was renamed to 'foreground'. Parameter 'second' was renamed to 'background'.\n",
      "  warn_deprecated(msg, stacklevel=3)\n"
     ]
    }
   ],
   "source": [
    "# e.g. Sometimes(0.5, GaussianBlur(0.3)) would blur roughly every second image.\n",
    "sometimes = lambda aug: iaa.Sometimes(0.5, aug)\n",
    "\n",
    "# Define our sequence of augmentation steps that will be applied to every image\n",
    "# All augmenters with per_channel=0.5 will sample one value _per image_\n",
    "# in 50% of all cases. In all other cases they will sample new values\n",
    "# _per channel_.\n",
    "\n",
    "seq = iaa.Sequential(\n",
    "    [\n",
    "        # apply the following augmenters to most images\n",
    "        iaa.Fliplr(0.5), # horizontally flip 50% of all images\n",
    "        iaa.Flipud(0.2), # vertically flip 20% of all images\n",
    "        # crop images by -5% to 10% of their height/width\n",
    "        sometimes(iaa.CropAndPad(\n",
    "            percent=(-0.05, 0.1),\n",
    "            pad_mode=ia.ALL,\n",
    "            pad_cval=(0, 255)\n",
    "        )),\n",
    "        sometimes(iaa.Affine(\n",
    "            scale={\"x\": (0.8, 1.2), \"y\": (0.8, 1.2)}, # scale images to 80-120% of their size, individually per axis\n",
    "            translate_percent={\"x\": (-0.2, 0.2), \"y\": (-0.2, 0.2)}, # translate by -20 to +20 percent (per axis)\n",
    "            rotate=(-45, 45), # rotate by -45 to +45 degrees\n",
    "            shear=(-16, 16), # shear by -16 to +16 degrees\n",
    "            order=[0, 1], # use nearest neighbour or bilinear interpolation (fast)\n",
    "            cval=(0, 255), # if mode is constant, use a cval between 0 and 255\n",
    "            mode=ia.ALL # use any of scikit-image's warping modes (see 2nd image from the top for examples)\n",
    "        )),\n",
    "        iaa.AddToHueAndSaturation((-100, 100)), # change hue and saturation\n",
    "\n",
    "        # execute 0 to 5 of the following (less important) augmenters per image\n",
    "        # don't execute all of them, as that would often be way too strong\n",
    "        iaa.SomeOf((0, 5),\n",
    "            [\n",
    "                sometimes(iaa.Superpixels(p_replace=(0, 1.0), n_segments=(20, 200))), # convert images into their superpixel representation\n",
    "                iaa.OneOf([\n",
    "                    iaa.GaussianBlur((0, 3.0)), # blur images with a sigma between 0 and 3.0\n",
    "                    iaa.AverageBlur(k=(2, 7)), # blur image using local means with kernel sizes between 2 and 7\n",
    "                    iaa.MedianBlur(k=(3, 11)), # blur image using local medians with kernel sizes between 2 and 7\n",
    "                ]),\n",
    "                iaa.Sharpen(alpha=(0, 1.0), lightness=(0.75, 1.5)), # sharpen images\n",
    "                iaa.Emboss(alpha=(0, 1.0), strength=(0, 2.0)), # emboss images\n",
    "                # search either for all edges or for directed edges,\n",
    "                # blend the result with the original image using a blobby mask\n",
    "                iaa.SimplexNoiseAlpha(iaa.OneOf([\n",
    "                    iaa.EdgeDetect(alpha=(0.5, 1.0)),\n",
    "                    iaa.DirectedEdgeDetect(alpha=(0.5, 1.0), direction=(0.0, 1.0)),\n",
    "                ])),\n",
    "                iaa.AdditiveGaussianNoise(loc=0, scale=(0.0, 0.05*255), per_channel=0.5), # add gaussian noise to images\n",
    "                iaa.OneOf([\n",
    "                    iaa.Dropout((0.01, 0.1), per_channel=0.5), # randomly remove up to 10% of the pixels\n",
    "                    iaa.CoarseDropout((0.03, 0.15), size_percent=(0.02, 0.05), per_channel=0.2),\n",
    "                ]),\n",
    "                iaa.Invert(0.05, per_channel=True), # invert color channels\n",
    "                iaa.Add((-10, 10), per_channel=0.5), # change brightness of images (by -10 to 10 of original value)\n",
    "                iaa.AddToHueAndSaturation((-20, 20)), # change hue and saturation\n",
    "                # either change the brightness of the whole image (sometimes\n",
    "                # per channel) or change the brightness of subareas\n",
    "                iaa.OneOf([\n",
    "                    iaa.Multiply((0.5, 1.5), per_channel=0.5),\n",
    "                    iaa.FrequencyNoiseAlpha(\n",
    "                        exponent=(-4, 0),\n",
    "                        first=iaa.Multiply((0.5, 1.5), per_channel=True),\n",
    "                        second=iaa.LinearContrast((0.5, 2.0))\n",
    "                    )\n",
    "                ]),\n",
    "                iaa.LinearContrast((0.5, 2.0), per_channel=0.5), # improve or worsen the contrast\n",
    "                iaa.Grayscale(alpha=(0.0, 1.0)),\n",
    "                sometimes(iaa.ElasticTransformation(alpha=(0.5, 3.5), sigma=0.25)), # move pixels locally around (with random strengths)\n",
    "                sometimes(iaa.PiecewiseAffine(scale=(0.01, 0.05))), # sometimes move parts of the image around\n",
    "                sometimes(iaa.PerspectiveTransform(scale=(0.01, 0.1)))\n",
    "            ],\n",
    "            random_order=True\n",
    "        )\n",
    "    ],\n",
    "    random_order=True\n",
    ")"
   ]
  },
  {
   "cell_type": "code",
   "execution_count": 6,
   "metadata": {},
   "outputs": [
    {
     "name": "stderr",
     "output_type": "stream",
     "text": [
      "C:\\Anaconda3\\lib\\site-packages\\imgaug\\augmenters\\segmentation.py:272: FutureWarning: skimage.measure.label's indexing starts from 0. In future version it will start from 1. To disable this warning, explicitely set the `start_label` parameter to 1.\n",
      "  image, n_segments=n_segments_samples[i], compactness=10)\n"
     ]
    }
   ],
   "source": [
    "n = augmented_templates_number // 4\n",
    "tmp1 = [img[np.newaxis] for img in template_imgs]\n",
    "tmp2 = [template_imgs[0][np.newaxis], template_imgs[2][np.newaxis],\n",
    "        template_imgs[0][np.newaxis], template_imgs[2][np.newaxis]]\n",
    "\n",
    "images = np.repeat(np.concatenate(tmp1), n, 0).reshape(-1, *template_imgs[0].shape)\n",
    "masks = np.repeat(np.concatenate(tmp2), n, 0).reshape(-1, *template_imgs[0].shape).astype(np.float32) / 255\n",
    "augmented_imgs, masks = seq(images=images, heatmaps=masks)"
   ]
  },
  {
   "cell_type": "code",
   "execution_count": 7,
   "metadata": {},
   "outputs": [],
   "source": [
    "indicies = np.arange(len(augmented_imgs))\n",
    "np.random.shuffle(indicies)\n",
    "augmented_imgs = augmented_imgs[indicies]\n",
    "masks = masks[indicies]"
   ]
  },
  {
   "cell_type": "code",
   "execution_count": 8,
   "metadata": {
    "scrolled": true
   },
   "outputs": [
    {
     "data": {
      "text/plain": [
       "<matplotlib.image.AxesImage at 0x26032afa708>"
      ]
     },
     "execution_count": 8,
     "metadata": {},
     "output_type": "execute_result"
    },
    {
     "data": {
      "image/png": "[encoded data removed]",
      "text/plain": [
       "<Figure size 432x288 with 1 Axes>"
      ]
     },
     "metadata": {
      "needs_background": "light"
     },
     "output_type": "display_data"
    },
    {
     "data": {
      "image/png": "[encoded data removed]",
      "text/plain": [
       "<Figure size 432x288 with 1 Axes>"
      ]
     },
     "metadata": {
      "needs_background": "light"
     },
     "output_type": "display_data"
    }
   ],
   "source": [
    "n = 28\n",
    "augmented_img = augmented_imgs[n].copy()\n",
    "mask = masks[n].copy()#augmented_img.sum(-1) > 30\n",
    "plt.imshow(augmented_img)\n",
    "plt.figure()\n",
    "plt.imshow(mask, cmap='Greys_r')"
   ]
  },
  {
   "cell_type": "code",
   "execution_count": 21,
   "metadata": {
    "scrolled": false
   },
   "outputs": [
    {
     "data": {
      "application/vnd.jupyter.widget-view+json": {
       "model_id": "4aa281400a0f421c9e063bfe05182deb",
       "version_major": 2,
       "version_minor": 0
      },
      "text/plain": [
       "HBox(children=(FloatProgress(value=0.0, max=100000.0), HTML(value='')))"
      ]
     },
     "metadata": {},
     "output_type": "display_data"
    },
    {
     "name": "stdout",
     "output_type": "stream",
     "text": [
      "\n"
     ]
    },
    {
     "ename": "KeyboardInterrupt",
     "evalue": "",
     "output_type": "error",
     "traceback": [
      "\u001b[1;31m---------------------------------------------------------------------------\u001b[0m",
      "\u001b[1;31mKeyboardInterrupt\u001b[0m                         Traceback (most recent call last)",
      "\u001b[1;32m<ipython-input-21-60faa5292a0e>\u001b[0m in \u001b[0;36m<module>\u001b[1;34m\u001b[0m\n\u001b[0;32m     72\u001b[0m     \u001b[1;32melif\u001b[0m \u001b[0mdataset_goal\u001b[0m \u001b[1;33m==\u001b[0m \u001b[1;34m'cascade2'\u001b[0m\u001b[1;33m:\u001b[0m\u001b[1;33m\u001b[0m\u001b[1;33m\u001b[0m\u001b[0m\n\u001b[0;32m     73\u001b[0m         \u001b[0mbig_mask\u001b[0m \u001b[1;33m=\u001b[0m \u001b[0mnp\u001b[0m\u001b[1;33m.\u001b[0m\u001b[0mzeros\u001b[0m\u001b[1;33m(\u001b[0m\u001b[0mbackground\u001b[0m\u001b[1;33m.\u001b[0m\u001b[0mshape\u001b[0m\u001b[1;33m[\u001b[0m\u001b[1;33m:\u001b[0m\u001b[1;36m2\u001b[0m\u001b[1;33m]\u001b[0m\u001b[1;33m,\u001b[0m \u001b[0mdtype\u001b[0m\u001b[1;33m=\u001b[0m\u001b[0mnp\u001b[0m\u001b[1;33m.\u001b[0m\u001b[0muint8\u001b[0m\u001b[1;33m)\u001b[0m\u001b[1;33m\u001b[0m\u001b[1;33m\u001b[0m\u001b[0m\n\u001b[1;32m---> 74\u001b[1;33m         \u001b[0mbig_mask\u001b[0m\u001b[1;33m[\u001b[0m\u001b[0mx\u001b[0m \u001b[1;33m:\u001b[0m \u001b[0mx\u001b[0m \u001b[1;33m+\u001b[0m \u001b[0maugmented_img\u001b[0m\u001b[1;33m.\u001b[0m\u001b[0mshape\u001b[0m\u001b[1;33m[\u001b[0m\u001b[1;36m0\u001b[0m\u001b[1;33m]\u001b[0m\u001b[1;33m,\u001b[0m \u001b[0my\u001b[0m \u001b[1;33m:\u001b[0m \u001b[0my\u001b[0m \u001b[1;33m+\u001b[0m \u001b[0maugmented_img\u001b[0m\u001b[1;33m.\u001b[0m\u001b[0mshape\u001b[0m\u001b[1;33m[\u001b[0m\u001b[1;36m1\u001b[0m\u001b[1;33m]\u001b[0m\u001b[1;33m]\u001b[0m \u001b[1;33m=\u001b[0m \u001b[0mmask\u001b[0m\u001b[1;33m\u001b[0m\u001b[1;33m\u001b[0m\u001b[0m\n\u001b[0m\u001b[0;32m     75\u001b[0m \u001b[1;33m\u001b[0m\u001b[0m\n\u001b[0;32m     76\u001b[0m         \u001b[0mbig_augmented\u001b[0m \u001b[1;33m=\u001b[0m \u001b[0mnp\u001b[0m\u001b[1;33m.\u001b[0m\u001b[0mzeros\u001b[0m\u001b[1;33m(\u001b[0m\u001b[0mbackground\u001b[0m\u001b[1;33m.\u001b[0m\u001b[0mshape\u001b[0m\u001b[1;33m,\u001b[0m \u001b[0mdtype\u001b[0m\u001b[1;33m=\u001b[0m\u001b[0mnp\u001b[0m\u001b[1;33m.\u001b[0m\u001b[0muint8\u001b[0m\u001b[1;33m)\u001b[0m\u001b[1;33m\u001b[0m\u001b[1;33m\u001b[0m\u001b[0m\n",
      "\u001b[1;31mKeyboardInterrupt\u001b[0m: "
     ]
    }
   ],
   "source": [
    "dataset_goal = 'cascade2'\n",
    "\n",
    "df_detector_answers = pd.DataFrame({'img_name': [], 'x': [], 'y': [], 'w': [], 'h': []})\n",
    "df_detector_answers = df_detector_answers.astype({'x': 'int32', 'y': 'int32', 'w': 'int32', 'h': 'int32'})\n",
    "\n",
    "for i in trange(100000):\n",
    "    n = i % augmented_templates_number\n",
    "    background_n = i % len(background_imgs)\n",
    "    \n",
    "    background = background_imgs[background_n].copy()\n",
    "    augmented_img = augmented_imgs[n].copy()\n",
    "    mask_orig = masks[n].copy()\n",
    "\n",
    "    # Random resizing\n",
    "    mask_orig *= 255\n",
    "    x = np.random.randint(40, 500)\n",
    "    y = int(x * (np.random.random() + 0.5) * 3 / 2)\n",
    "    size = [min(x, background.shape[1]), min(y, background.shape[0])]\n",
    "\n",
    "    augmented_img = cv2.bitwise_and(augmented_img, mask_orig.astype(np.uint8))\n",
    "    augmented_img = cv2.resize(augmented_img, (*size,))\n",
    "    mask = cv2.resize(mask_orig, (*size,))[..., 0]\n",
    "\n",
    "    x = np.random.randint(0, background.shape[0] - augmented_img.shape[0] + 1)\n",
    "    y = np.random.randint(0, background.shape[1] - augmented_img.shape[1] + 1)\n",
    "\n",
    "    if dataset_goal == 'detector':\n",
    "        big_mask = np.zeros(background.shape[:2], dtype=np.uint8)\n",
    "        big_mask[x : x + augmented_img.shape[0], y : y + augmented_img.shape[1]] = mask\n",
    "\n",
    "        big_augmented = np.zeros(background.shape, dtype=np.uint8)\n",
    "        big_augmented[x : x + augmented_img.shape[0], y : y + augmented_img.shape[1]] = augmented_img\n",
    "\n",
    "        big_mask = cv2.cvtColor(big_mask, cv2.COLOR_GRAY2RGB)\n",
    "\n",
    "        background_masked = cv2.bitwise_and(~big_mask, background)\n",
    "\n",
    "\n",
    "        blended = cv2.addWeighted(big_augmented, 1, background_masked, 1, 0)\n",
    "#         blended = cv2.rectangle(blended, (y, x), (y + augmented_img.shape[1], x + augmented_img.shape[0]), (255, 0, 0), 1)\n",
    "\n",
    "        \n",
    "        folder = 'detector_data/'\n",
    "        if not os.path.exists(folder):\n",
    "            os.makedirs(folder)\n",
    "        \n",
    "        img_name = f'img-{i}.jpg'\n",
    "        cv2.imwrite(f'{folder}/{img_name}', blended)\n",
    "        df_detector_answers = df_detector_answers.append(\n",
    "            {'img_name': img_name, 'x': int(x), 'y': int(y), \n",
    "             'w': int(augmented_img.shape[0]), 'h': int(augmented_img.shape[1])},\n",
    "            ignore_index=True)\n",
    "    \n",
    "    elif dataset_goal == 'cascade':\n",
    "        background_segment = background[x : x + augmented_img.shape[0], y : y + augmented_img.shape[1]]\n",
    "        \n",
    "        bg_mask = cv2.cvtColor(mask.astype(np.uint8), cv2.COLOR_GRAY2RGB)\n",
    "        background_masked = cv2.bitwise_and(~bg_mask, background_segment)\n",
    "\n",
    "        blended = cv2.addWeighted(augmented_img, 1, background_masked, 1, 0)\n",
    "        \n",
    "        folder1 = 'cascade_data/positive/'\n",
    "        folder2 = 'cascade_data/negative/'\n",
    "        if not os.path.exists(folder1):\n",
    "            os.makedirs(folder1)\n",
    "        if not os.path.exists(folder2):\n",
    "            os.makedirs(folder2)\n",
    "        \n",
    "        cv2.imwrite(f'{folder1}/img-{i}.jpg', blended)\n",
    "        cv2.imwrite(f'{folder2}/img-{i}.jpg', background_segment)\n",
    "        \n",
    "    elif dataset_goal == 'cascade2':\n",
    "        big_mask = np.zeros(background.shape[:2], dtype=np.uint8)\n",
    "        big_mask[x : x + augmented_img.shape[0], y : y + augmented_img.shape[1]] = mask\n",
    "\n",
    "        big_augmented = np.zeros(background.shape, dtype=np.uint8)\n",
    "        big_augmented[x : x + augmented_img.shape[0], y : y + augmented_img.shape[1]] = augmented_img\n",
    "\n",
    "        big_mask = cv2.cvtColor(big_mask, cv2.COLOR_GRAY2RGB)\n",
    "\n",
    "        background_masked = cv2.bitwise_and(~big_mask, background)\n",
    "\n",
    "\n",
    "        blended = cv2.addWeighted(big_augmented, 1, background_masked, 1, 0)\n",
    "#         blended = cv2.rectangle(blended, (y, x), (y + augmented_img.shape[1], x + augmented_img.shape[0]), (255, 0, 0), 1)\n",
    "        \n",
    "        lx = x + augmented_img.shape[0] // 2 - cascade_img_size\n",
    "        rx = x + augmented_img.shape[0] // 2\n",
    "        ly = y + augmented_img.shape[1] // 2 - cascade_img_size\n",
    "        ry = y + augmented_img.shape[1] // 2\n",
    "        cx = np.random.randint(lx, rx)\n",
    "        cy = np.random.randint(ly, ry)\n",
    "        crop_pos = blended[max(cx, 0):cx + cascade_img_size, max(cy, 0):cy + cascade_img_size]\n",
    "        crop_pos = cv2.resize(crop_pos, (cascade_img_size, cascade_img_size))\n",
    "        crop_neg = background[max(cx, 0):cx + cascade_img_size, max(cy, 0):cy + cascade_img_size]\n",
    "        crop_neg = cv2.resize(crop_neg, (cascade_img_size, cascade_img_size))\n",
    "        \n",
    "        if val_split:\n",
    "            folder1 = 'cascade2_data_imagenet_val/positive/'\n",
    "            folder2 = 'cascade2_data_imagenet_val/negative/'\n",
    "        else:\n",
    "            folder1 = 'cascade2_data_imagenet/positive/'\n",
    "            folder2 = 'cascade2_data_imagenet/negative/'\n",
    "        \n",
    "        if not os.path.exists(folder1):\n",
    "            os.makedirs(folder1)\n",
    "        if not os.path.exists(folder2):\n",
    "            os.makedirs(folder2)\n",
    "        \n",
    "        cv2.imwrite(f'{folder1}/img-{i}.jpg', crop_pos)\n",
    "        cv2.imwrite(f'{folder2}/img-{i}.jpg', crop_neg)\n",
    "    else:\n",
    "        raise 1\n",
    "\n",
    "if dataset_goal == 'detector':\n",
    "    df_detector_answers.to_csv('detector_target.csv', index=False)\n",
    "#     plt.figure()#figsize=(15, 10))\n",
    "#     plt.imshow(blended)\n"
   ]
  },
  {
   "cell_type": "code",
   "execution_count": 16,
   "metadata": {},
   "outputs": [
    {
     "data": {
      "text/plain": [
       "(333, 499, 3)"
      ]
     },
     "execution_count": 16,
     "metadata": {},
     "output_type": "execute_result"
    }
   ],
   "source": [
    "background.shape"
   ]
  },
  {
   "cell_type": "code",
   "execution_count": 17,
   "metadata": {},
   "outputs": [
    {
     "data": {
      "text/plain": [
       "(333, 431, 3)"
      ]
     },
     "execution_count": 17,
     "metadata": {},
     "output_type": "execute_result"
    }
   ],
   "source": [
    "augmented_img.shape"
   ]
  },
  {
   "cell_type": "code",
   "execution_count": null,
   "metadata": {},
   "outputs": [],
   "source": []
  }
 ],
 "metadata": {
  "kernelspec": {
   "display_name": "Python 3",
   "language": "python",
   "name": "python3"
  },
  "language_info": {
   "codemirror_mode": {
    "name": "ipython",
    "version": 3
   },
   "file_extension": ".py",
   "mimetype": "text/x-python",
   "name": "python",
   "nbconvert_exporter": "python",
   "pygments_lexer": "ipython3",
   "version": "3.7.4"
  }
 },
 "nbformat": 4,
 "nbformat_minor": 4
}
